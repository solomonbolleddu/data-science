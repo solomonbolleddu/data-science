{
 "cells": [
  {
   "cell_type": "markdown",
   "metadata": {},
   "source": [
    "# ASSIGNMENT DAY-3"
   ]
  },
  {
   "cell_type": "raw",
   "metadata": {},
   "source": [
    "Questions 1:\n",
    "Create a numpy array starting from 2 till 50 with a stepsize of 3."
   ]
  },
  {
   "cell_type": "code",
   "execution_count": 1,
   "metadata": {},
   "outputs": [
    {
     "name": "stdout",
     "output_type": "stream",
     "text": [
      "[ 2  5  8 11 14 17 20 23 26 29 32 35 38 41 44 47 50]\n"
     ]
    }
   ],
   "source": [
    "import numpy as np\n",
    "array = np.arange(2,51,3)\n",
    "print(array)"
   ]
  },
  {
   "cell_type": "raw",
   "metadata": {},
   "source": [
    "Questions 2:\n",
    "Accept two lists of 5 elements each from the user.\n",
    "Convert them to numpy arrays. Concatenate these arrays and print it. Also sort these arrays and print it."
   ]
  },
  {
   "cell_type": "code",
   "execution_count": 3,
   "metadata": {},
   "outputs": [
    {
     "name": "stdout",
     "output_type": "stream",
     "text": [
      "list1\n",
      "4\n",
      "list1\n",
      "5\n",
      "list1\n",
      "6\n",
      "list1\n",
      "7\n",
      "list1\n",
      "8\n",
      "list2\n",
      "1\n",
      "list2\n",
      "9\n",
      "list2\n",
      "2\n",
      "list2\n",
      "3\n",
      "list2\n",
      "0\n",
      "[4 5 6 7 8 1 9 2 3 0]\n",
      "[0 1 2 3 4 5 6 7 8 9]\n"
     ]
    }
   ],
   "source": [
    "import numpy as np\n",
    "array1=[] \n",
    "array2=[]\n",
    "for each in range(0, 5): \n",
    "    element = int(input(\"list1\\n\"))\n",
    "    array1.append(element)\n",
    "for each in range(0, 5): \n",
    "    element = int(input(\"list2\\n\"))\n",
    "    array2.append(element) \n",
    "array1 = np.array(array1)\n",
    "array2 = np.array(array2)\n",
    "print(np.concatenate((array1,array2)))\n",
    "print(np.sort(np.concatenate((array1,array2))))"
   ]
  },
  {
   "cell_type": "raw",
   "metadata": {},
   "source": [
    "Questions 3:\n",
    "Write a code snippet to find the dimensions of a ndarray and its size."
   ]
  },
  {
   "cell_type": "code",
   "execution_count": 4,
   "metadata": {},
   "outputs": [
    {
     "name": "stdout",
     "output_type": "stream",
     "text": [
      "2\n",
      "9\n"
     ]
    }
   ],
   "source": [
    "import numpy as np\n",
    "array = np.array([[1,2,3],[4,5,6],[7,8,9]])\n",
    "print(array.ndim)\n",
    "print(array.size)"
   ]
  },
  {
   "cell_type": "raw",
   "metadata": {},
   "source": [
    "Questions 4:\n",
    "\n",
    "How to convert a 1D array into a 2D array? Demonstrate with the help of a code snippet\n",
    "Hint: np.newaxis, np.expand_dims"
   ]
  },
  {
   "cell_type": "code",
   "execution_count": 5,
   "metadata": {},
   "outputs": [
    {
     "name": "stdout",
     "output_type": "stream",
     "text": [
      "1\n",
      "2\n"
     ]
    }
   ],
   "source": [
    "import numpy as np\n",
    "array=np.random.rand(5,)\n",
    "print(array.ndim)\n",
    "new_array = array[np.newaxis, :]\n",
    "print(new_array.ndim)"
   ]
  },
  {
   "cell_type": "raw",
   "metadata": {},
   "source": [
    "Questions 5:\n",
    "Consider two square numpy arrays. Stack them vertically and horizontally.\n",
    "Hint: Use vstack(), hstack()"
   ]
  },
  {
   "cell_type": "code",
   "execution_count": 6,
   "metadata": {},
   "outputs": [
    {
     "name": "stdout",
     "output_type": "stream",
     "text": [
      "[[0.62400232 0.1578718  0.37992467]\n",
      " [0.91881699 0.50309427 0.53365588]\n",
      " [0.99814515 0.05405164 0.8765298 ]\n",
      " [0.79292627 0.89045442 0.45989605]\n",
      " [0.8845482  0.86143926 0.54961475]\n",
      " [0.63375572 0.6605045  0.66913851]]\n",
      "\n",
      "[[0.62400232 0.1578718  0.37992467 0.79292627 0.89045442 0.45989605]\n",
      " [0.91881699 0.50309427 0.53365588 0.8845482  0.86143926 0.54961475]\n",
      " [0.99814515 0.05405164 0.8765298  0.63375572 0.6605045  0.66913851]]\n"
     ]
    }
   ],
   "source": [
    "import numpy as np\n",
    "array1=np.random.rand(3,3)\n",
    "array2=np.random.rand(3,3)\n",
    "print(np.vstack((array1,array2)))\n",
    "print() #giving space\n",
    "print(np.hstack((array1,array2)))"
   ]
  },
  {
   "cell_type": "raw",
   "metadata": {},
   "source": [
    "Questions 6:\n",
    "How to get unique items and counts of unique items?"
   ]
  },
  {
   "cell_type": "code",
   "execution_count": 7,
   "metadata": {},
   "outputs": [
    {
     "name": "stdout",
     "output_type": "stream",
     "text": [
      "(array([1, 2, 3, 4, 5, 6, 7, 8, 9]), array([2, 2, 3, 1, 3, 4, 2, 3, 4], dtype=int64))\n"
     ]
    }
   ],
   "source": [
    "import numpy as np\n",
    "arr = np.array([1,9,3,1,5,2,5,6,4,3,9,7,6,8,9,2,6,5,6,3,8,9,7,8])\n",
    "print(np.unique(arr,return_counts=True))"
   ]
  },
  {
   "cell_type": "code",
   "execution_count": null,
   "metadata": {},
   "outputs": [],
   "source": []
  }
 ],
 "metadata": {
  "kernelspec": {
   "display_name": "Python 3",
   "language": "python",
   "name": "python3"
  },
  "language_info": {
   "codemirror_mode": {
    "name": "ipython",
    "version": 3
   },
   "file_extension": ".py",
   "mimetype": "text/x-python",
   "name": "python",
   "nbconvert_exporter": "python",
   "pygments_lexer": "ipython3",
   "version": "3.7.6"
  }
 },
 "nbformat": 4,
 "nbformat_minor": 4
}
